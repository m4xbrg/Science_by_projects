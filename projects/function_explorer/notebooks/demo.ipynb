{
 "cells": [
  {
   "cell_type": "markdown",
   "id": "55aa51c1",
   "metadata": {},
   "source": [
    "# Function Explorer — Demo\n",
    "This notebook runs the analyzer, shows a summary, and renders two plots."
   ]
  },
  {
   "cell_type": "code",
   "execution_count": null,
   "id": "7cf1ada4",
   "metadata": {},
   "outputs": [],
   "source": [
    "from function_explorer import FunctionExplorer\n",
    "from viz_helpers import plot_analysis, plot_value_hist\n",
    "import pandas as pd\n",
    "\n",
    "expr = \"sin(x)/x\"\n",
    "fx = FunctionExplorer(expr)\n",
    "res = fx.analyze(window=(-10, 10), samples=3000)\n",
    "\n",
    "# Summary as a small DataFrame\n",
    "summary = pd.DataFrame(\n",
    "    {\n",
    "        \"Expression\": [expr],\n",
    "        \"Domain\": [FunctionExplorer.format_domain(res.domain_intervals)],\n",
    "        \"x-intercepts\": [res.x_intercepts],\n",
    "        \"y-intercept\": [res.y_intercept],\n",
    "        \"Singularities\": [res.singularities],\n",
    "        \"Critical points\": [res.critical_points],\n",
    "        \"Range estimate\": [[res.range_estimate[0], res.range_estimate[1]]],\n",
    "    }\n",
    ")\n",
    "summary"
   ]
  },
  {
   "cell_type": "code",
   "execution_count": null,
   "id": "f35a0d9a",
   "metadata": {},
   "outputs": [],
   "source": [
    "# Plots\n",
    "plot_analysis(res, title=f\"y = {expr}\")\n",
    "plot_value_hist(res, bins=60)"
   ]
  },
  {
   "cell_type": "code",
   "execution_count": null,
   "id": "fcb2f879",
   "metadata": {},
   "outputs": [],
   "source": [
    "# Save samples to CSV (optional)\n",
    "import pandas as pd\n",
    "\n",
    "pd.DataFrame({\"X\": res.samples[\"X\"], \"Y\": res.samples[\"Y\"]}).to_csv(\"samples.csv\", index=False)\n",
    "\"Saved samples.csv\""
   ]
  }
 ],
 "metadata": {},
 "nbformat": 4,
 "nbformat_minor": 5
}
